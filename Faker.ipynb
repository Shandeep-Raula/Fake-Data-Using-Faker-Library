{
 "cells": [
  {
   "cell_type": "code",
   "execution_count": 1,
   "id": "c689c67e-a566-4758-b4a5-9cde313ba29a",
   "metadata": {},
   "outputs": [],
   "source": [
    "from faker import Faker\n",
    "import pandas as pd \n",
    "import numpy as np"
   ]
  },
  {
   "cell_type": "code",
   "execution_count": 2,
   "id": "923221b2-33b5-4ee7-bcac-43a4a2c58b50",
   "metadata": {},
   "outputs": [],
   "source": [
    "fake = Faker()"
   ]
  },
  {
   "cell_type": "code",
   "execution_count": 3,
   "id": "f00f9bc4-eddd-43ff-919f-7f25f9265494",
   "metadata": {},
   "outputs": [],
   "source": [
    "transaction_date = []\n",
    "customer_name = []\n",
    "card_number = []\n",
    "zipCode = []\n",
    "transaction_amount = []"
   ]
  },
  {
   "cell_type": "code",
   "execution_count": 4,
   "id": "f930868d-8875-4d29-a53e-0d9397f9e6c2",
   "metadata": {},
   "outputs": [],
   "source": [
    "for _ in range(10):\n",
    "    transaction_date.append(fake.date_between_dates('-1y' , 'now'))"
   ]
  },
  {
   "cell_type": "code",
   "execution_count": 5,
   "id": "97c0fa76-b1c5-45c1-b5fb-6ce3d0c494c9",
   "metadata": {},
   "outputs": [],
   "source": [
    "for _ in range(10):\n",
    "     customer_name.append(fake.name())"
   ]
  },
  {
   "cell_type": "code",
   "execution_count": 6,
   "id": "ba8442c3-67df-496c-a4a5-31177c0edfba",
   "metadata": {},
   "outputs": [],
   "source": [
    "for _ in range(10):\n",
    "     card_number.append(fake.credit_card_number())"
   ]
  },
  {
   "cell_type": "code",
   "execution_count": 7,
   "id": "9907f677-f5b8-45c3-bf13-b405670c5f4c",
   "metadata": {},
   "outputs": [],
   "source": [
    "for _ in range(10):\n",
    "     zipCode.append(fake.zipcode())"
   ]
  },
  {
   "cell_type": "code",
   "execution_count": 8,
   "id": "9f1903e4-dd71-4e2b-9cb8-624d5d42f7b0",
   "metadata": {},
   "outputs": [],
   "source": [
    "for _ in range(10):\n",
    "    transaction_amount.append(np.random.randint(100,5000))"
   ]
  },
  {
   "cell_type": "code",
   "execution_count": 10,
   "id": "c482c368-0446-424e-b618-07b67e5a10a1",
   "metadata": {},
   "outputs": [
    {
     "data": {
      "text/html": [
       "<div>\n",
       "<style scoped>\n",
       "    .dataframe tbody tr th:only-of-type {\n",
       "        vertical-align: middle;\n",
       "    }\n",
       "\n",
       "    .dataframe tbody tr th {\n",
       "        vertical-align: top;\n",
       "    }\n",
       "\n",
       "    .dataframe thead th {\n",
       "        text-align: right;\n",
       "    }\n",
       "</style>\n",
       "<table border=\"1\" class=\"dataframe\">\n",
       "  <thead>\n",
       "    <tr style=\"text-align: right;\">\n",
       "      <th></th>\n",
       "      <th>transaction_date</th>\n",
       "      <th>customer_name</th>\n",
       "      <th>card_number</th>\n",
       "      <th>zipcode</th>\n",
       "      <th>transaction_amount</th>\n",
       "    </tr>\n",
       "  </thead>\n",
       "  <tbody>\n",
       "    <tr>\n",
       "      <th>0</th>\n",
       "      <td>2024-07-01</td>\n",
       "      <td>Tiffany Harrison</td>\n",
       "      <td>4392151393969919</td>\n",
       "      <td>33677</td>\n",
       "      <td>1404</td>\n",
       "    </tr>\n",
       "    <tr>\n",
       "      <th>1</th>\n",
       "      <td>2024-04-04</td>\n",
       "      <td>Melissa Snyder</td>\n",
       "      <td>180074754136403</td>\n",
       "      <td>12262</td>\n",
       "      <td>2394</td>\n",
       "    </tr>\n",
       "    <tr>\n",
       "      <th>2</th>\n",
       "      <td>2024-05-03</td>\n",
       "      <td>Veronica Jimenez</td>\n",
       "      <td>372420360081723</td>\n",
       "      <td>64430</td>\n",
       "      <td>1605</td>\n",
       "    </tr>\n",
       "    <tr>\n",
       "      <th>3</th>\n",
       "      <td>2024-08-12</td>\n",
       "      <td>Matthew Scott</td>\n",
       "      <td>4259136871403004</td>\n",
       "      <td>06230</td>\n",
       "      <td>2983</td>\n",
       "    </tr>\n",
       "    <tr>\n",
       "      <th>4</th>\n",
       "      <td>2024-05-18</td>\n",
       "      <td>Hunter Sanchez</td>\n",
       "      <td>4104793808054693</td>\n",
       "      <td>17228</td>\n",
       "      <td>617</td>\n",
       "    </tr>\n",
       "    <tr>\n",
       "      <th>5</th>\n",
       "      <td>2024-01-09</td>\n",
       "      <td>Angela Lamb</td>\n",
       "      <td>676332169470</td>\n",
       "      <td>92761</td>\n",
       "      <td>4264</td>\n",
       "    </tr>\n",
       "    <tr>\n",
       "      <th>6</th>\n",
       "      <td>2023-08-28</td>\n",
       "      <td>Joseph Massey</td>\n",
       "      <td>3529859932199867</td>\n",
       "      <td>05498</td>\n",
       "      <td>1229</td>\n",
       "    </tr>\n",
       "    <tr>\n",
       "      <th>7</th>\n",
       "      <td>2024-04-29</td>\n",
       "      <td>Alexander Bradley</td>\n",
       "      <td>343218414849111</td>\n",
       "      <td>01385</td>\n",
       "      <td>701</td>\n",
       "    </tr>\n",
       "    <tr>\n",
       "      <th>8</th>\n",
       "      <td>2023-11-08</td>\n",
       "      <td>Eric Cook</td>\n",
       "      <td>4589779048469</td>\n",
       "      <td>82989</td>\n",
       "      <td>4922</td>\n",
       "    </tr>\n",
       "    <tr>\n",
       "      <th>9</th>\n",
       "      <td>2024-04-21</td>\n",
       "      <td>Monica Smith</td>\n",
       "      <td>3534865171673325</td>\n",
       "      <td>68738</td>\n",
       "      <td>1664</td>\n",
       "    </tr>\n",
       "  </tbody>\n",
       "</table>\n",
       "</div>"
      ],
      "text/plain": [
       "  transaction_date      customer_name       card_number zipcode  \\\n",
       "0       2024-07-01   Tiffany Harrison  4392151393969919   33677   \n",
       "1       2024-04-04     Melissa Snyder   180074754136403   12262   \n",
       "2       2024-05-03   Veronica Jimenez   372420360081723   64430   \n",
       "3       2024-08-12      Matthew Scott  4259136871403004   06230   \n",
       "4       2024-05-18     Hunter Sanchez  4104793808054693   17228   \n",
       "5       2024-01-09        Angela Lamb      676332169470   92761   \n",
       "6       2023-08-28      Joseph Massey  3529859932199867   05498   \n",
       "7       2024-04-29  Alexander Bradley   343218414849111   01385   \n",
       "8       2023-11-08          Eric Cook     4589779048469   82989   \n",
       "9       2024-04-21       Monica Smith  3534865171673325   68738   \n",
       "\n",
       "   transaction_amount  \n",
       "0                1404  \n",
       "1                2394  \n",
       "2                1605  \n",
       "3                2983  \n",
       "4                 617  \n",
       "5                4264  \n",
       "6                1229  \n",
       "7                 701  \n",
       "8                4922  \n",
       "9                1664  "
      ]
     },
     "execution_count": 10,
     "metadata": {},
     "output_type": "execute_result"
    }
   ],
   "source": [
    "df = pd.DataFrame(zip(transaction_date,customer_name,card_number,zipCode,transaction_amount),columns=['transaction_date','customer_name','card_number','zipcode','transaction_amount'])\n",
    "df"
   ]
  },
  {
   "cell_type": "code",
   "execution_count": 13,
   "id": "aaec9378-38a0-4205-b854-cba7fdf1ffdc",
   "metadata": {},
   "outputs": [],
   "source": [
    "df.to_csv('fake_data.csv')"
   ]
  },
  {
   "cell_type": "code",
   "execution_count": null,
   "id": "fa94949e-12c6-49b8-b420-5bbca666fc29",
   "metadata": {},
   "outputs": [],
   "source": []
  }
 ],
 "metadata": {
  "kernelspec": {
   "display_name": "Python 3 (ipykernel)",
   "language": "python",
   "name": "python3"
  },
  "language_info": {
   "codemirror_mode": {
    "name": "ipython",
    "version": 3
   },
   "file_extension": ".py",
   "mimetype": "text/x-python",
   "name": "python",
   "nbconvert_exporter": "python",
   "pygments_lexer": "ipython3",
   "version": "3.12.4"
  }
 },
 "nbformat": 4,
 "nbformat_minor": 5
}
